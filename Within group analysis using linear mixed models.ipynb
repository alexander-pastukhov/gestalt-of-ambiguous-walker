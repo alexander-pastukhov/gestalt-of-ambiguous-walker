{
 "cells": [
  {
   "cell_type": "markdown",
   "metadata": {},
   "source": [
    "# Analysis code for the \"First, you need a Gestalt: an interaction of bottom-up and top-down streams during perception of an ambiguously rotating human walker\" maniscript.\n",
    "Within group analysis using linear mixed models. Generates __\"Within\"__ subtable in __Figure 1A__."
   ]
  },
  {
   "cell_type": "code",
   "execution_count": 7,
   "metadata": {
    "collapsed": true
   },
   "outputs": [],
   "source": [
    "rm(list=ls())"
   ]
  },
  {
   "cell_type": "code",
   "execution_count": 8,
   "metadata": {
    "collapsed": false
   },
   "outputs": [],
   "source": [
    "library(dplyr)\n",
    "library(ggplot2)\n",
    "library(tidyr)\n",
    "library(lmerTest)\n",
    "library(lmPerm)"
   ]
  },
  {
   "cell_type": "markdown",
   "metadata": {},
   "source": [
    "Loading individual observers into a single table"
   ]
  },
  {
   "cell_type": "code",
   "execution_count": 9,
   "metadata": {
    "collapsed": false
   },
   "outputs": [],
   "source": [
    "groups <- c('Naïve', 'Informed')\n",
    "results <- data.frame()\n",
    "\n",
    "for(current.group in groups){\n",
    "    group.files <- list.files(path= current.group, pattern='csv$')\n",
    "    for(current.file in group.files){\n",
    "        current.observer <- read.csv2(file.path(current.group, current.file), dec = '.')\n",
    "        \n",
    "        # adding group ID\n",
    "        current.observer$Group <- current.group\n",
    "        \n",
    "        # merging\n",
    "        results <- rbind(results, current.observer) \n",
    "    }\n",
    "}\n",
    "\n",
    "# Block 0 was training only, excluding it from the analysis\n",
    "results <- subset(results, Block>0)\n",
    "\n",
    "# Putting factors into a proper order\n",
    "results$Condition <- factor(results$Condition, levels= c('Scrambled static', 'Upright walker', 'Inverted walker', 'Scrambled moving'))\n",
    "results$Group <- factor(results$Group, levels= c('Naïve', 'Informed'))"
   ]
  },
  {
   "cell_type": "markdown",
   "metadata": {},
   "source": [
    "#### Computing the fraction of the time that observers reported perception of illusory rotation"
   ]
  },
  {
   "cell_type": "code",
   "execution_count": 10,
   "metadata": {
    "collapsed": false
   },
   "outputs": [],
   "source": [
    "results$Observer <- as.character(results$Observer)\n",
    "\n",
    "# splitting into groups to simplify the completion\n",
    "naive.rotation <- results %>%\n",
    "    dplyr::filter(Group=='Naïve') %>%\n",
    "    dplyr::group_by(Group, Condition, Observer) %>%\n",
    "    dplyr::summarize(visible.fraction= 100*sum(Duration)/Block.duration[1]) %>%\n",
    "    dplyr::mutate(Observer= as.factor(Observer)) %>%\n",
    "    tidyr::complete(Observer,  fill = list(visible.fraction = 0)) %>%\n",
    "    dplyr::mutate(Observer= as.character(Observer))\n",
    "informed.rotation <- results %>%\n",
    "    dplyr::filter(Group=='Informed') %>%\n",
    "    dplyr::group_by(Group, Condition, Observer) %>%\n",
    "    dplyr::summarize(visible.fraction= 100*sum(Duration)/Block.duration[1]) %>%\n",
    "    dplyr::mutate(Observer= as.factor(Observer)) %>%\n",
    "    tidyr::complete(Observer,  fill = list(visible.fraction = 0)) %>%\n",
    "    dplyr::mutate(Observer= as.character(Observer))\n",
    "\n",
    "rotation <- rbind(naive.rotation, informed.rotation)\n",
    "results$Observer <- as.factor(results$Observer)"
   ]
  },
  {
   "cell_type": "code",
   "execution_count": 11,
   "metadata": {
    "collapsed": false
   },
   "outputs": [
    {
     "data": {
      "text/html": [
       "<table>\n",
       "<thead><tr><th></th><th scope=col>Estimate</th><th scope=col>Std..Error</th><th scope=col>df</th><th scope=col>t.value</th><th scope=col>Pr...t..</th><th scope=col>effect.size</th></tr></thead>\n",
       "<tbody>\n",
       "\t<tr><th scope=row>(Intercept)</th><td> 91.06337   </td><td>5.133823    </td><td>68.00027    </td><td> 17.737925  </td><td>0.000000e+00</td><td>0.9067987   </td></tr>\n",
       "\t<tr><th scope=row>ConditionUpright walker</th><td>-22.73340   </td><td>7.260322    </td><td>68.00027    </td><td> -3.131184  </td><td>2.566565e-03</td><td>0.3549817   </td></tr>\n",
       "\t<tr><th scope=row>ConditionInverted walker</th><td>-80.93328   </td><td>7.260322    </td><td>68.00027    </td><td>-11.147340  </td><td>0.000000e+00</td><td>0.8039386   </td></tr>\n",
       "\t<tr><th scope=row>ConditionScrambled moving</th><td>-53.91463   </td><td>7.260322    </td><td>68.00027    </td><td> -7.425928  </td><td>2.412079e-10</td><td>0.6691799   </td></tr>\n",
       "</tbody>\n",
       "</table>\n"
      ],
      "text/latex": [
       "\\begin{tabular}{r|llllll}\n",
       "  & Estimate & Std..Error & df & t.value & Pr...t.. & effect.size\\\\\n",
       "\\hline\n",
       "\t(Intercept) &  91.06337    & 5.133823     & 68.00027     &  17.737925   & 0.000000e+00 & 0.9067987   \\\\\n",
       "\tConditionUpright walker & -22.73340    & 7.260322     & 68.00027     &  -3.131184   & 2.566565e-03 & 0.3549817   \\\\\n",
       "\tConditionInverted walker & -80.93328    & 7.260322     & 68.00027     & -11.147340   & 0.000000e+00 & 0.8039386   \\\\\n",
       "\tConditionScrambled moving & -53.91463    & 7.260322     & 68.00027     &  -7.425928   & 2.412079e-10 & 0.6691799   \\\\\n",
       "\\end{tabular}\n"
      ],
      "text/plain": [
       "                          Estimate  Std..Error df       t.value    Pr...t..    \n",
       "(Intercept)                91.06337 5.133823   68.00027  17.737925 0.000000e+00\n",
       "ConditionUpright walker   -22.73340 7.260322   68.00027  -3.131184 2.566565e-03\n",
       "ConditionInverted walker  -80.93328 7.260322   68.00027 -11.147340 0.000000e+00\n",
       "ConditionScrambled moving -53.91463 7.260322   68.00027  -7.425928 2.412079e-10\n",
       "                          effect.size\n",
       "(Intercept)               0.9067987  \n",
       "ConditionUpright walker   0.3549817  \n",
       "ConditionInverted walker  0.8039386  \n",
       "ConditionScrambled moving 0.6691799  "
      ]
     },
     "metadata": {},
     "output_type": "display_data"
    },
    {
     "data": {
      "text/plain": [
       "Linear mixed model fit by REML t-tests use Satterthwaite approximations to\n",
       "  degrees of freedom [lmerMod]\n",
       "Formula: visible.fraction ~ Condition + (1 | Observer)\n",
       "   Data: naive.rotation\n",
       "\n",
       "REML criterion at convergence: 623.6\n",
       "\n",
       "Scaled residuals: \n",
       "    Min      1Q  Median      3Q     Max \n",
       "-3.1371 -0.4651  0.1065  0.4448  2.3929 \n",
       "\n",
       "Random effects:\n",
       " Groups   Name        Variance Std.Dev.\n",
       " Observer (Intercept)   0.0     0.00   \n",
       " Residual             474.4    21.78   \n",
       "Number of obs: 72, groups:  Observer, 18\n",
       "\n",
       "Fixed effects:\n",
       "                          Estimate Std. Error      df t value Pr(>|t|)    \n",
       "(Intercept)                 91.063      5.134  68.000  17.738  < 2e-16 ***\n",
       "ConditionUpright walker    -22.733      7.260  68.000  -3.131  0.00257 ** \n",
       "ConditionInverted walker   -80.933      7.260  68.000 -11.147  < 2e-16 ***\n",
       "ConditionScrambled moving  -53.915      7.260  68.000  -7.426 2.41e-10 ***\n",
       "---\n",
       "Signif. codes:  0 '***' 0.001 '**' 0.01 '*' 0.05 '.' 0.1 ' ' 1\n",
       "\n",
       "Correlation of Fixed Effects:\n",
       "            (Intr) CndtUw CndtIw\n",
       "CndtnUprghw -0.707              \n",
       "CndtnInvrtw -0.707  0.500       \n",
       "CndtnScrmbm -0.707  0.500  0.500"
      ]
     },
     "metadata": {},
     "output_type": "display_data"
    }
   ],
   "source": [
    "rcontrast<-function(t, df) {\n",
    "    return(sqrt(t^2/(t^2 + df)))\n",
    "}\n",
    "\n",
    "naive.rotation <- subset(rotation, Group=='Naïve')\n",
    "naive.summary<-data.frame(summary(lmerTest::lmer(visible.fraction ~ Condition + (1 | Observer), data= naive.rotation))$coefficients)\n",
    "naive.summary$effect.size <- rcontrast(naive.summary$t.value, naive.summary$df)\n",
    "naive.summary\n",
    "summary(lmerTest::lmer(visible.fraction ~ Condition + (1 | Observer), data= naive.rotation))"
   ]
  },
  {
   "cell_type": "code",
   "execution_count": 12,
   "metadata": {
    "collapsed": false
   },
   "outputs": [
    {
     "data": {
      "text/html": [
       "<table>\n",
       "<thead><tr><th></th><th scope=col>Estimate</th><th scope=col>Std..Error</th><th scope=col>df</th><th scope=col>t.value</th><th scope=col>Pr...t..</th><th scope=col>effect.size</th></tr></thead>\n",
       "<tbody>\n",
       "\t<tr><th scope=row>(Intercept)</th><td> 89.875685  </td><td>5.825483    </td><td>62.39223    </td><td>15.4280222  </td><td>0.000000e+00</td><td>0.89012020  </td></tr>\n",
       "\t<tr><th scope=row>ConditionUpright walker</th><td>  2.857469  </td><td>7.491653    </td><td>50.99947    </td><td> 0.3814203  </td><td>7.044759e-01</td><td>0.05333379  </td></tr>\n",
       "\t<tr><th scope=row>ConditionInverted walker</th><td>-22.420398  </td><td>7.491653    </td><td>50.99947    </td><td>-2.9927170  </td><td>4.254336e-03</td><td>0.38650041  </td></tr>\n",
       "\t<tr><th scope=row>ConditionScrambled moving</th><td>-47.351305  </td><td>7.491653    </td><td>50.99947    </td><td>-6.3205415  </td><td>6.433318e-08</td><td>0.66275957  </td></tr>\n",
       "</tbody>\n",
       "</table>\n"
      ],
      "text/latex": [
       "\\begin{tabular}{r|llllll}\n",
       "  & Estimate & Std..Error & df & t.value & Pr...t.. & effect.size\\\\\n",
       "\\hline\n",
       "\t(Intercept) &  89.875685   & 5.825483     & 62.39223     & 15.4280222   & 0.000000e+00 & 0.89012020  \\\\\n",
       "\tConditionUpright walker &   2.857469   & 7.491653     & 50.99947     &  0.3814203   & 7.044759e-01 & 0.05333379  \\\\\n",
       "\tConditionInverted walker & -22.420398   & 7.491653     & 50.99947     & -2.9927170   & 4.254336e-03 & 0.38650041  \\\\\n",
       "\tConditionScrambled moving & -47.351305   & 7.491653     & 50.99947     & -6.3205415   & 6.433318e-08 & 0.66275957  \\\\\n",
       "\\end{tabular}\n"
      ],
      "text/plain": [
       "                          Estimate   Std..Error df       t.value   \n",
       "(Intercept)                89.875685 5.825483   62.39223 15.4280222\n",
       "ConditionUpright walker     2.857469 7.491653   50.99947  0.3814203\n",
       "ConditionInverted walker  -22.420398 7.491653   50.99947 -2.9927170\n",
       "ConditionScrambled moving -47.351305 7.491653   50.99947 -6.3205415\n",
       "                          Pr...t..     effect.size\n",
       "(Intercept)               0.000000e+00 0.89012020 \n",
       "ConditionUpright walker   7.044759e-01 0.05333379 \n",
       "ConditionInverted walker  4.254336e-03 0.38650041 \n",
       "ConditionScrambled moving 6.433318e-08 0.66275957 "
      ]
     },
     "metadata": {},
     "output_type": "display_data"
    },
    {
     "data": {
      "text/plain": [
       "Linear mixed model fit by REML t-tests use Satterthwaite approximations to\n",
       "  degrees of freedom [lmerMod]\n",
       "Formula: visible.fraction ~ Condition + (1 | Observer)\n",
       "   Data: informed.rotation\n",
       "\n",
       "REML criterion at convergence: 638.2\n",
       "\n",
       "Scaled residuals: \n",
       "    Min      1Q  Median      3Q     Max \n",
       "-2.7984 -0.3888  0.1067  0.6670  1.6562 \n",
       "\n",
       "Random effects:\n",
       " Groups   Name        Variance Std.Dev.\n",
       " Observer (Intercept) 105.7    10.28   \n",
       " Residual             505.1    22.47   \n",
       "Number of obs: 72, groups:  Observer, 18\n",
       "\n",
       "Fixed effects:\n",
       "                          Estimate Std. Error      df t value Pr(>|t|)    \n",
       "(Intercept)                 89.876      5.825  62.390  15.428  < 2e-16 ***\n",
       "ConditionUpright walker      2.857      7.492  51.000   0.381  0.70448    \n",
       "ConditionInverted walker   -22.420      7.492  51.000  -2.993  0.00425 ** \n",
       "ConditionScrambled moving  -47.351      7.492  51.000  -6.321 6.43e-08 ***\n",
       "---\n",
       "Signif. codes:  0 '***' 0.001 '**' 0.01 '*' 0.05 '.' 0.1 ' ' 1\n",
       "\n",
       "Correlation of Fixed Effects:\n",
       "            (Intr) CndtUw CndtIw\n",
       "CndtnUprghw -0.643              \n",
       "CndtnInvrtw -0.643  0.500       \n",
       "CndtnScrmbm -0.643  0.500  0.500"
      ]
     },
     "metadata": {},
     "output_type": "display_data"
    }
   ],
   "source": [
    "informed.rotation <- subset(rotation, Group=='Informed')\n",
    "informed.summary<-data.frame(summary(lmerTest::lmer(visible.fraction ~ Condition + (1 | Observer), data= informed.rotation))$coefficients)\n",
    "informed.summary$effect.size <- rcontrast(informed.summary$t.value, informed.summary$df)\n",
    "informed.summary\n",
    "summary(lmerTest::lmer(visible.fraction ~ Condition + (1 | Observer), data= informed.rotation))"
   ]
  },
  {
   "cell_type": "code",
   "execution_count": 16,
   "metadata": {
    "collapsed": false
   },
   "outputs": [
    {
     "data": {
      "text/html": [
       "12"
      ],
      "text/latex": [
       "12"
      ],
      "text/markdown": [
       "12"
      ],
      "text/plain": [
       "[1] 12"
      ]
     },
     "metadata": {},
     "output_type": "display_data"
    }
   ],
   "source": [
    "720/60"
   ]
  }
 ],
 "metadata": {
  "kernelspec": {
   "display_name": "R",
   "language": "R",
   "name": "ir"
  },
  "language_info": {
   "codemirror_mode": "r",
   "file_extension": ".r",
   "mimetype": "text/x-r-source",
   "name": "R",
   "pygments_lexer": "r",
   "version": "3.3.1"
  }
 },
 "nbformat": 4,
 "nbformat_minor": 1
}
